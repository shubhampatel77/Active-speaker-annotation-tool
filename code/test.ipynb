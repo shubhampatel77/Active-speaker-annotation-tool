{
 "cells": [
  {
   "cell_type": "markdown",
   "metadata": {},
   "source": [
    "## Create annotated videos (detection, tracking)"
   ]
  },
  {
   "cell_type": "code",
   "execution_count": 5,
   "metadata": {
    "execution": {
     "iopub.execute_input": "2024-09-10T22:21:45.849293Z",
     "iopub.status.busy": "2024-09-10T22:21:45.848713Z",
     "iopub.status.idle": "2024-09-10T22:21:45.852678Z",
     "shell.execute_reply": "2024-09-10T22:21:45.852159Z",
     "shell.execute_reply.started": "2024-09-10T22:21:45.849271Z"
    }
   },
   "outputs": [],
   "source": [
    "import os\n",
    "import cv2\n",
    "import json\n",
    "import sys\n",
    "from retinaface import RetinaFace\n",
    "from tqdm import tqdm\n",
    "import pandas as pd\n",
    "import numpy as np\n",
    "from PIL import Image\n",
    "from scipy.stats import entropy\n",
    "import logging\n",
    "from pathlib import Path\n",
    "import torch\n",
    "from torchvision import transforms\n",
    "logging.basicConfig(level=logging.INFO)\n",
    "# pip install retina-face\n",
    "# pip install tf-keras\n",
    "# pip uninstall tensorflow\n",
    "# pip install tensorflow==2.15.0"
   ]
  },
  {
   "cell_type": "markdown",
   "metadata": {},
   "source": [
    "### Check videos before task"
   ]
  },
  {
   "cell_type": "code",
   "execution_count": 2,
   "metadata": {
    "execution": {
     "iopub.execute_input": "2024-09-09T14:04:24.793737Z",
     "iopub.status.busy": "2024-09-09T14:04:24.793067Z",
     "iopub.status.idle": "2024-09-09T14:04:27.761098Z",
     "shell.execute_reply": "2024-09-09T14:04:27.760682Z",
     "shell.execute_reply.started": "2024-09-09T14:04:24.793710Z"
    }
   },
   "outputs": [
    {
     "name": "stdout",
     "output_type": "stream",
     "text": [
      "\n",
      "Checking PwNQ-K0pzkc.mp4:\n",
      "Successfully opened and read from: /notebooks/data/original/PwNQ-K0pzkc.mp4\n",
      "Video properties:\n",
      "Frame count: 23129\n",
      "FPS: 25.0\n",
      "Resolution: 1280x720\n",
      "\n",
      "Checking 0jpRxldMUSw.mp4:\n",
      "Successfully opened and read from: /notebooks/data/original/0jpRxldMUSw.mp4\n",
      "Video properties:\n",
      "Frame count: 951\n",
      "FPS: 25.0\n",
      "Resolution: 1280x720\n",
      "\n",
      "Checking HrWlKN1DSYo.mp4:\n",
      "Successfully opened and read from: /notebooks/data/original/HrWlKN1DSYo.mp4\n",
      "Video properties:\n",
      "Frame count: 15209\n",
      "FPS: 25.0\n",
      "Resolution: 480x360\n",
      "\n",
      "Checking 4L5Yv6gADuM.mp4:\n",
      "Successfully opened and read from: /notebooks/data/original/4L5Yv6gADuM.mp4\n",
      "Video properties:\n",
      "Frame count: 1039\n",
      "FPS: 25.0\n",
      "Resolution: 1280x720\n",
      "\n",
      "Checking p3p-yrf9lIQ.mp4:\n",
      "Successfully opened and read from: /notebooks/data/original/p3p-yrf9lIQ.mp4\n",
      "Video properties:\n",
      "Frame count: 9919\n",
      "FPS: 25.0\n",
      "Resolution: 640x360\n",
      "\n",
      "Checking hb2T6yD5t7M.mp4:\n",
      "Successfully opened and read from: /notebooks/data/original/hb2T6yD5t7M.mp4\n",
      "Video properties:\n",
      "Frame count: 25476\n",
      "FPS: 25.0\n",
      "Resolution: 1280x720\n",
      "\n",
      "Checking YFAcgTFOyuM.mp4:\n",
      "Successfully opened and read from: /notebooks/data/original/YFAcgTFOyuM.mp4\n",
      "Video properties:\n",
      "Frame count: 9045\n",
      "FPS: 25.0\n",
      "Resolution: 1280x720\n",
      "\n",
      "Checking Vsz6dpRCwSo.mp4:\n",
      "Successfully opened and read from: /notebooks/data/original/Vsz6dpRCwSo.mp4\n",
      "Video properties:\n",
      "Frame count: 20951\n",
      "FPS: 25.0\n",
      "Resolution: 428x360\n",
      "\n",
      "Checking nBZckV4TXsE.mp4:\n",
      "Successfully opened and read from: /notebooks/data/original/nBZckV4TXsE.mp4\n",
      "Video properties:\n",
      "Frame count: 16176\n",
      "FPS: 25.0\n",
      "Resolution: 1280x720\n",
      "\n",
      "Checking _iL0n-4JP5A.mp4:\n",
      "Successfully opened and read from: /notebooks/data/original/_iL0n-4JP5A.mp4\n",
      "Video properties:\n",
      "Frame count: 7992\n",
      "FPS: 25.0\n",
      "Resolution: 480x360\n",
      "\n",
      "Checking Ry5YD1LTEcc.mp4:\n",
      "Successfully opened and read from: /notebooks/data/original/Ry5YD1LTEcc.mp4\n",
      "Video properties:\n",
      "Frame count: 2297\n",
      "FPS: 25.0\n",
      "Resolution: 1280x720\n",
      "\n",
      "Checking kAeGDz_HUEU.mp4:\n",
      "Successfully opened and read from: /notebooks/data/original/kAeGDz_HUEU.mp4\n",
      "Video properties:\n",
      "Frame count: 21270\n",
      "FPS: 25.0\n",
      "Resolution: 1280x720\n",
      "\n",
      "Checking Os99GSTS8C0.mp4:\n",
      "Successfully opened and read from: /notebooks/data/original/Os99GSTS8C0.mp4\n",
      "Video properties:\n",
      "Frame count: 9966\n",
      "FPS: 25.0\n",
      "Resolution: 1280x720\n",
      "\n",
      "Checking -oGJwGEsIiA.mp4:\n",
      "Successfully opened and read from: /notebooks/data/original/-oGJwGEsIiA.mp4\n",
      "Video properties:\n",
      "Frame count: 6220\n",
      "FPS: 25.0\n",
      "Resolution: 480x360\n",
      "\n",
      "Checking -t-htrAtNvM.mp4:\n",
      "Successfully opened and read from: /notebooks/data/original/-t-htrAtNvM.mp4\n",
      "Video properties:\n",
      "Frame count: 3442\n",
      "FPS: 25.0\n",
      "Resolution: 1280x720\n",
      "\n",
      "Checking aHyLYrc_q2g.mp4:\n",
      "Successfully opened and read from: /notebooks/data/original/aHyLYrc_q2g.mp4\n",
      "Video properties:\n",
      "Frame count: 1463\n",
      "FPS: 25.0\n",
      "Resolution: 1280x720\n",
      "\n",
      "Checking GNQUA0bI5b0.mp4:\n",
      "Successfully opened and read from: /notebooks/data/original/GNQUA0bI5b0.mp4\n",
      "Video properties:\n",
      "Frame count: 9056\n",
      "FPS: 25.0\n",
      "Resolution: 640x360\n",
      "\n",
      "Checking Hwgdj_cPNFo.mp4:\n",
      "Error opening video file: /notebooks/data/original/Hwgdj_cPNFo.mp4\n",
      "\n",
      "Checking -bNJ9olw-OE.mp4:\n",
      "Successfully opened and read from: /notebooks/data/original/-bNJ9olw-OE.mp4\n",
      "Video properties:\n",
      "Frame count: 19226\n",
      "FPS: 25.0\n",
      "Resolution: 1280x720\n",
      "\n",
      "Checking ABgL2LcoBTU.mp4:\n"
     ]
    },
    {
     "name": "stderr",
     "output_type": "stream",
     "text": [
      "[mov,mp4,m4a,3gp,3g2,mj2 @ 0xdc165c0] moov atom not found\n"
     ]
    },
    {
     "name": "stdout",
     "output_type": "stream",
     "text": [
      "Successfully opened and read from: /notebooks/data/original/ABgL2LcoBTU.mp4\n",
      "Video properties:\n",
      "Frame count: 883\n",
      "FPS: 25.0\n",
      "Resolution: 1280x720\n",
      "\n",
      "Checking PE-NqycWE4M.mp4:\n",
      "Successfully opened and read from: /notebooks/data/original/PE-NqycWE4M.mp4\n",
      "Video properties:\n",
      "Frame count: 12560\n",
      "FPS: 25.0\n",
      "Resolution: 1280x720\n",
      "\n",
      "Checking IDhn63EjlEg.mp4:\n",
      "Successfully opened and read from: /notebooks/data/original/IDhn63EjlEg.mp4\n",
      "Video properties:\n",
      "Frame count: 1086\n",
      "FPS: 25.0\n",
      "Resolution: 1280x720\n",
      "\n",
      "Checking 1DeV3HTdWTI.mp4:\n",
      "Successfully opened and read from: /notebooks/data/original/1DeV3HTdWTI.mp4\n",
      "Video properties:\n",
      "Frame count: 6241\n",
      "FPS: 25.0\n",
      "Resolution: 640x360\n",
      "\n",
      "Checking QGEU99l9HoA.mp4:\n",
      "Successfully opened and read from: /notebooks/data/original/QGEU99l9HoA.mp4\n",
      "Video properties:\n",
      "Frame count: 15003\n",
      "FPS: 25.0\n",
      "Resolution: 1280x720\n",
      "\n",
      "Checking OhbfvD0Cwvw.mp4:\n",
      "Successfully opened and read from: /notebooks/data/original/OhbfvD0Cwvw.mp4\n",
      "Video properties:\n",
      "Frame count: 19650\n",
      "FPS: 25.0\n",
      "Resolution: 1280x720\n",
      "\n",
      "Checking lhkTO-LC94A.mp4:\n",
      "Successfully opened and read from: /notebooks/data/original/lhkTO-LC94A.mp4\n",
      "Video properties:\n",
      "Frame count: 14442\n",
      "FPS: 25.0\n",
      "Resolution: 1280x720\n",
      "\n",
      "Checking -qfsR2ZEUcw.mp4:\n",
      "Successfully opened and read from: /notebooks/data/original/-qfsR2ZEUcw.mp4\n",
      "Video properties:\n",
      "Frame count: 8117\n",
      "FPS: 25.0\n",
      "Resolution: 1280x720\n",
      "\n",
      "Checking U6odp2ZrvVw.mp4:\n",
      "Successfully opened and read from: /notebooks/data/original/U6odp2ZrvVw.mp4\n",
      "Video properties:\n",
      "Frame count: 10357\n",
      "FPS: 25.0\n",
      "Resolution: 1280x720\n",
      "\n",
      "Checking JdNoEpN4kxE.mp4:\n",
      "Successfully opened and read from: /notebooks/data/original/JdNoEpN4kxE.mp4\n",
      "Video properties:\n",
      "Frame count: 8627\n",
      "FPS: 25.0\n",
      "Resolution: 480x360\n",
      "\n",
      "Checking PB3VhxPnYIQ.mp4:\n",
      "Successfully opened and read from: /notebooks/data/original/PB3VhxPnYIQ.mp4\n",
      "Video properties:\n",
      "Frame count: 4907\n",
      "FPS: 25.0\n",
      "Resolution: 1280x720\n",
      "\n",
      "Checking PFBFrLt00GA.mp4:\n",
      "Successfully opened and read from: /notebooks/data/original/PFBFrLt00GA.mp4\n",
      "Video properties:\n",
      "Frame count: 7687\n",
      "FPS: 25.0\n",
      "Resolution: 1280x720\n",
      "\n",
      "Checking 8vHlRFmB-SI.mp4:\n",
      "Successfully opened and read from: /notebooks/data/original/8vHlRFmB-SI.mp4\n",
      "Video properties:\n",
      "Frame count: 29029\n",
      "FPS: 25.0\n",
      "Resolution: 1280x720\n",
      "\n",
      "Checking 3c-vZ4GpIKs.mp4:\n",
      "Successfully opened and read from: /notebooks/data/original/3c-vZ4GpIKs.mp4\n",
      "Video properties:\n",
      "Frame count: 5312\n",
      "FPS: 25.0\n",
      "Resolution: 1280x720\n",
      "\n",
      "Summary:\n",
      "Successfully loaded videos: 32\n",
      "Failed to load videos: 1\n",
      "\n",
      "Successfully loaded video paths:\n",
      "/notebooks/data/original/PwNQ-K0pzkc.mp4\n",
      "/notebooks/data/original/0jpRxldMUSw.mp4\n",
      "/notebooks/data/original/HrWlKN1DSYo.mp4\n",
      "/notebooks/data/original/4L5Yv6gADuM.mp4\n",
      "/notebooks/data/original/p3p-yrf9lIQ.mp4\n",
      "/notebooks/data/original/hb2T6yD5t7M.mp4\n",
      "/notebooks/data/original/YFAcgTFOyuM.mp4\n",
      "/notebooks/data/original/Vsz6dpRCwSo.mp4\n",
      "/notebooks/data/original/nBZckV4TXsE.mp4\n",
      "/notebooks/data/original/_iL0n-4JP5A.mp4\n",
      "/notebooks/data/original/Ry5YD1LTEcc.mp4\n",
      "/notebooks/data/original/kAeGDz_HUEU.mp4\n",
      "/notebooks/data/original/Os99GSTS8C0.mp4\n",
      "/notebooks/data/original/-oGJwGEsIiA.mp4\n",
      "/notebooks/data/original/-t-htrAtNvM.mp4\n",
      "/notebooks/data/original/aHyLYrc_q2g.mp4\n",
      "/notebooks/data/original/GNQUA0bI5b0.mp4\n",
      "/notebooks/data/original/-bNJ9olw-OE.mp4\n",
      "/notebooks/data/original/ABgL2LcoBTU.mp4\n",
      "/notebooks/data/original/PE-NqycWE4M.mp4\n",
      "/notebooks/data/original/IDhn63EjlEg.mp4\n",
      "/notebooks/data/original/1DeV3HTdWTI.mp4\n",
      "/notebooks/data/original/QGEU99l9HoA.mp4\n",
      "/notebooks/data/original/OhbfvD0Cwvw.mp4\n",
      "/notebooks/data/original/lhkTO-LC94A.mp4\n",
      "/notebooks/data/original/-qfsR2ZEUcw.mp4\n",
      "/notebooks/data/original/U6odp2ZrvVw.mp4\n",
      "/notebooks/data/original/JdNoEpN4kxE.mp4\n",
      "/notebooks/data/original/PB3VhxPnYIQ.mp4\n",
      "/notebooks/data/original/PFBFrLt00GA.mp4\n",
      "/notebooks/data/original/8vHlRFmB-SI.mp4\n",
      "/notebooks/data/original/3c-vZ4GpIKs.mp4\n",
      "\n",
      "Failed to load video paths:\n",
      "/notebooks/data/original/Hwgdj_cPNFo.mp4\n"
     ]
    }
   ],
   "source": [
    "import cv2\n",
    "import os\n",
    "\n",
    "def check_video(video_path):\n",
    "    cap = cv2.VideoCapture(video_path)\n",
    "    if not cap.isOpened():\n",
    "        print(f\"Error opening video file: {video_path}\")\n",
    "        return False\n",
    "    \n",
    "    ret, frame = cap.read()\n",
    "    if not ret:\n",
    "        print(f\"Error reading first frame from: {video_path}\")\n",
    "        cap.release()\n",
    "        return False\n",
    "    \n",
    "    print(f\"Successfully opened and read from: {video_path}\")\n",
    "    print(f\"Video properties:\")\n",
    "    print(f\"Frame count: {int(cap.get(cv2.CAP_PROP_FRAME_COUNT))}\")\n",
    "    print(f\"FPS: {cap.get(cv2.CAP_PROP_FPS)}\")\n",
    "    print(f\"Resolution: {int(cap.get(cv2.CAP_PROP_FRAME_WIDTH))}x{int(cap.get(cv2.CAP_PROP_FRAME_HEIGHT))}\")\n",
    "    \n",
    "    cap.release()\n",
    "    return True\n",
    "\n",
    "def check_videos_in_directory(video_dir):\n",
    "    successful_loads = []\n",
    "    failed_loads = []\n",
    "    \n",
    "    for filename in os.listdir(video_dir):\n",
    "        if filename.endswith('.mp4'):\n",
    "            full_path = os.path.join(video_dir, filename)\n",
    "            print(f\"\\nChecking {filename}:\")\n",
    "            if check_video(full_path):\n",
    "                successful_loads.append(full_path)\n",
    "            else:\n",
    "                failed_loads.append(full_path)\n",
    "    \n",
    "    print(\"\\nSummary:\")\n",
    "    print(f\"Successfully loaded videos: {len(successful_loads)}\")\n",
    "    print(f\"Failed to load videos: {len(failed_loads)}\")\n",
    "    \n",
    "    return successful_loads, failed_loads\n",
    "\n",
    "# Directory containing your video files\n",
    "video_dir = '/notebooks/data/original'  # Adjust this path as needed\n",
    "\n",
    "successful, failed = check_videos_in_directory(video_dir)\n",
    "\n",
    "print(\"\\nSuccessfully loaded video paths:\")\n",
    "for path in successful:\n",
    "    print(path)\n",
    "\n",
    "print(\"\\nFailed to load video paths:\")\n",
    "for path in failed:\n",
    "    print(path)"
   ]
  },
  {
   "cell_type": "markdown",
   "metadata": {},
   "source": [
    "### GOTURN specific imports"
   ]
  },
  {
   "cell_type": "code",
   "execution_count": 3,
   "metadata": {
    "execution": {
     "iopub.execute_input": "2024-09-10T18:24:40.150146Z",
     "iopub.status.busy": "2024-09-10T18:24:40.149406Z",
     "iopub.status.idle": "2024-09-10T18:24:40.202176Z",
     "shell.execute_reply": "2024-09-10T18:24:40.201650Z",
     "shell.execute_reply.started": "2024-09-10T18:24:40.150121Z"
    }
   },
   "outputs": [],
   "source": [
    "sys.path.append(\"/notebooks/goturn-pytorch/src\")\n",
    "\n",
    "from goturn.helper.BoundingBox import BoundingBox\n",
    "from goturn.helper.image_proc import cropPadImage\n",
    "from goturn.helper.image_io import resize\n",
    "from goturn.network.network import GoturnNetwork\n",
    "\n",
    "device = torch.device(\"cuda\" if torch.cuda.is_available() else \"cpu\")"
   ]
  },
  {
   "cell_type": "markdown",
   "metadata": {},
   "source": [
    "### GOTURN modified script v2"
   ]
  },
  {
   "cell_type": "code",
   "execution_count": 4,
   "metadata": {
    "execution": {
     "iopub.execute_input": "2024-09-10T18:24:43.426063Z",
     "iopub.status.busy": "2024-09-10T18:24:43.425826Z",
     "iopub.status.idle": "2024-09-10T18:27:27.836776Z",
     "shell.execute_reply": "2024-09-10T18:27:27.836314Z",
     "shell.execute_reply.started": "2024-09-10T18:24:43.426046Z"
    }
   },
   "outputs": [
    {
     "name": "stderr",
     "output_type": "stream",
     "text": [
      "\u001b[32m2024-09-10 18:24:44.066\u001b[0m | \u001b[1mINFO    \u001b[0m | \u001b[36mgoturn.network.network\u001b[0m:\u001b[36m__init__\u001b[0m:\u001b[36m55\u001b[0m - \u001b[1mNot using caffe fc weights/ manually initialized\u001b[0m\n",
      "INFO:root:Loaded state_dict from .ckpt instead.\n",
      "Processing 4L5Yv6gADuM.mp4:   0%|          | 0/1039 [00:00<?, ?it/s]2024-09-10 18:24:49.157511: I external/local_xla/xla/stream_executor/cuda/cuda_executor.cc:901] successful NUMA node read from SysFS had negative value (-1), but there must be at least one NUMA node, so returning NUMA node zero. See more at https://github.com/torvalds/linux/blob/v6.0/Documentation/ABI/testing/sysfs-bus-pci#L344-L355\n",
      "2024-09-10 18:24:49.163574: I external/local_xla/xla/stream_executor/cuda/cuda_executor.cc:901] successful NUMA node read from SysFS had negative value (-1), but there must be at least one NUMA node, so returning NUMA node zero. See more at https://github.com/torvalds/linux/blob/v6.0/Documentation/ABI/testing/sysfs-bus-pci#L344-L355\n",
      "2024-09-10 18:24:49.163798: I external/local_xla/xla/stream_executor/cuda/cuda_executor.cc:901] successful NUMA node read from SysFS had negative value (-1), but there must be at least one NUMA node, so returning NUMA node zero. See more at https://github.com/torvalds/linux/blob/v6.0/Documentation/ABI/testing/sysfs-bus-pci#L344-L355\n",
      "2024-09-10 18:24:49.164924: I external/local_xla/xla/stream_executor/cuda/cuda_executor.cc:901] successful NUMA node read from SysFS had negative value (-1), but there must be at least one NUMA node, so returning NUMA node zero. See more at https://github.com/torvalds/linux/blob/v6.0/Documentation/ABI/testing/sysfs-bus-pci#L344-L355\n",
      "2024-09-10 18:24:49.165102: I external/local_xla/xla/stream_executor/cuda/cuda_executor.cc:901] successful NUMA node read from SysFS had negative value (-1), but there must be at least one NUMA node, so returning NUMA node zero. See more at https://github.com/torvalds/linux/blob/v6.0/Documentation/ABI/testing/sysfs-bus-pci#L344-L355\n",
      "2024-09-10 18:24:49.165216: I external/local_xla/xla/stream_executor/cuda/cuda_executor.cc:901] successful NUMA node read from SysFS had negative value (-1), but there must be at least one NUMA node, so returning NUMA node zero. See more at https://github.com/torvalds/linux/blob/v6.0/Documentation/ABI/testing/sysfs-bus-pci#L344-L355\n",
      "2024-09-10 18:24:50.156913: I external/local_xla/xla/stream_executor/cuda/cuda_executor.cc:901] successful NUMA node read from SysFS had negative value (-1), but there must be at least one NUMA node, so returning NUMA node zero. See more at https://github.com/torvalds/linux/blob/v6.0/Documentation/ABI/testing/sysfs-bus-pci#L344-L355\n",
      "2024-09-10 18:24:50.157072: I external/local_xla/xla/stream_executor/cuda/cuda_executor.cc:901] successful NUMA node read from SysFS had negative value (-1), but there must be at least one NUMA node, so returning NUMA node zero. See more at https://github.com/torvalds/linux/blob/v6.0/Documentation/ABI/testing/sysfs-bus-pci#L344-L355\n",
      "2024-09-10 18:24:50.157146: W tensorflow/core/common_runtime/gpu/gpu_bfc_allocator.cc:47] Overriding orig_value setting because the TF_FORCE_GPU_ALLOW_GROWTH environment variable is set. Original config value was 0.\n",
      "2024-09-10 18:24:50.157183: I external/local_xla/xla/stream_executor/cuda/cuda_executor.cc:901] successful NUMA node read from SysFS had negative value (-1), but there must be at least one NUMA node, so returning NUMA node zero. See more at https://github.com/torvalds/linux/blob/v6.0/Documentation/ABI/testing/sysfs-bus-pci#L344-L355\n",
      "2024-09-10 18:24:50.157258: I tensorflow/core/common_runtime/gpu/gpu_device.cc:1929] Created device /job:localhost/replica:0/task:0/device:GPU:0 with 44791 MB memory:  -> device: 0, name: NVIDIA RTX A6000, pci bus id: 0000:00:05.0, compute capability: 8.6\n"
     ]
    },
    {
     "name": "stdout",
     "output_type": "stream",
     "text": [
      "24-09-10 18:24:51 - Directory /root/.deepface created\n",
      "24-09-10 18:24:51 - Directory /root/.deepface/weights created\n",
      "24-09-10 18:24:51 - retinaface.h5 will be downloaded from the url https://github.com/serengil/deepface_models/releases/download/v1.0/retinaface.h5\n"
     ]
    },
    {
     "name": "stderr",
     "output_type": "stream",
     "text": [
      "Downloading...\n",
      "From: https://github.com/serengil/deepface_models/releases/download/v1.0/retinaface.h5\n",
      "To: /root/.deepface/weights/retinaface.h5\n",
      "\n",
      "  0%|          | 0.00/119M [00:00<?, ?B/s]\u001b[A\n",
      "  8%|▊         | 9.96M/119M [00:00<00:01, 99.5MB/s]\u001b[A\n",
      " 34%|███▎      | 39.8M/119M [00:00<00:00, 215MB/s] \u001b[A\n",
      " 53%|█████▎    | 62.9M/119M [00:00<00:00, 222MB/s]\u001b[A\n",
      " 72%|███████▏  | 85.5M/119M [00:00<00:00, 196MB/s]\u001b[A\n",
      "100%|██████████| 119M/119M [00:00<00:00, 217MB/s] \u001b[A\n",
      "2024-09-10 18:25:05.496653: I external/local_xla/xla/stream_executor/cuda/cuda_dnn.cc:454] Loaded cuDNN version 8902\n",
      "Processing 4L5Yv6gADuM.mp4: 100%|█████████▉| 1038/1039 [02:38<00:00,  6.54it/s]"
     ]
    },
    {
     "name": "stdout",
     "output_type": "stream",
     "text": [
      "Processed 1039 frames\n",
      "Annotated video saved to /notebooks/data/annotated_with_goturn/4L5Yv6gADuM2.mp4\n",
      "Face tracks data saved to /notebooks/data/annotated_with_goturn/4L5Yv6gADuM2.json\n"
     ]
    },
    {
     "name": "stderr",
     "output_type": "stream",
     "text": [
      "\n"
     ]
    }
   ],
   "source": [
    "def fallback_track_matching(track, current_detections, iou_threshold=0.2):\n",
    "    best_iou = iou_threshold\n",
    "    best_detection = None\n",
    "    for detection in current_detections:\n",
    "        iou = compute_iou(track['bbox'], detection['bbox'])\n",
    "        if iou > best_iou:\n",
    "            best_iou = iou\n",
    "            best_detection = detection\n",
    "    return best_detection\n",
    "\n",
    "\n",
    "\n",
    "\n",
    "if __name__ == \"__main__\":\n",
    "    ckpt_path = \"/notebooks/goturn-pytorch/src/goturn/models/pretrained/_ckpt_epoch_3.ckpt\"\n",
    "    goturn_model = load_goturn_model(ckpt_path)\n",
    "    file_name = \"4L5Yv6gADuM\"\n",
    "    input_path = f\"/notebooks/data/original/{file_name}.mp4\"\n",
    "    output_video_path = f\"/notebooks/data/annotated_with_goturn/{file_name}2.mp4\"\n",
    "    output_json_path = f\"/notebooks/data/annotated_with_goturn/{file_name}2.json\"\n",
    "    # Main execution\n",
    "    base_dir = os.path.dirname(os.getcwd())  # Go up two levels from the code folder\n",
    "    original_folder = os.path.join(base_dir, 'data', 'original')\n",
    "    annotated_folder = os.path.join(base_dir, 'data', 'annotated_with_goturn')\n",
    "    info_folder = os.path.join(base_dir, 'data', 'annotated', 'info')\n",
    "\n",
    "    # Ensure output directories exist\n",
    "    os.makedirs(annotated_folder, exist_ok=True)\n",
    "    os.makedirs(info_folder, exist_ok=True)\n",
    "    process_video(input_path, output_video_path, output_json_path, goturn_model)"
   ]
  },
  {
   "cell_type": "markdown",
   "metadata": {},
   "source": [
    "### Main execution"
   ]
  },
  {
   "cell_type": "code",
   "execution_count": 1,
   "metadata": {
    "execution": {
     "iopub.execute_input": "2024-09-11T02:36:21.653938Z",
     "iopub.status.busy": "2024-09-11T02:36:21.653355Z",
     "iopub.status.idle": "2024-09-11T02:36:22.506560Z",
     "shell.execute_reply": "2024-09-11T02:36:22.505985Z",
     "shell.execute_reply.started": "2024-09-11T02:36:21.653921Z"
    }
   },
   "outputs": [
    {
     "data": {
      "image/png": "[encoded data removed]",
      "text/plain": [
       "<Figure size 1000x600 with 1 Axes>"
      ]
     },
     "metadata": {},
     "output_type": "display_data"
    },
    {
     "name": "stdout",
     "output_type": "stream",
     "text": [
      "Mean duration: 20.08 frames\n",
      "Median duration: 3.00 frames\n",
      "25th percentile: 1.00 frames\n",
      "75th percentile: 14.00 frames\n",
      "Suggested threshold for discarding short-lived tracks: 1.00 frames\n"
     ]
    }
   ],
   "source": [
    "import json\n",
    "import matplotlib.pyplot as plt\n",
    "import numpy as np\n",
    "\n",
    "def analyze_track_duration(json_path):\n",
    "    with open(json_path, 'r') as f:\n",
    "        json_data = json.load(f)\n",
    "\n",
    "    track_durations = {}\n",
    "    for frame, tracks in json_data.items():\n",
    "        for track in tracks:\n",
    "            track_id = track['track_id']\n",
    "            if track_id not in track_durations:\n",
    "                track_durations[track_id] = {'start': int(frame), 'end': int(frame)}\n",
    "            else:\n",
    "                track_durations[track_id]['end'] = int(frame)\n",
    "\n",
    "    durations = [d['end'] - d['start'] + 1 for d in track_durations.values()]\n",
    "\n",
    "    plt.figure(figsize=(10, 6))\n",
    "    plt.hist(durations, bins=50)\n",
    "    plt.title('Distribution of Track Durations')\n",
    "    plt.xlabel('Duration (frames)')\n",
    "    plt.ylabel('Frequency')\n",
    "    plt.show()\n",
    "\n",
    "    print(f\"Mean duration: {np.mean(durations):.2f} frames\")\n",
    "    print(f\"Median duration: {np.median(durations):.2f} frames\")\n",
    "    print(f\"25th percentile: {np.percentile(durations, 25):.2f} frames\")\n",
    "    print(f\"75th percentile: {np.percentile(durations, 75):.2f} frames\")\n",
    "\n",
    "    return durations\n",
    "\n",
    "# Usage\n",
    "json_path = '/notebooks/data/annotated/info/4L5Yv6gADuM.json'\n",
    "durations = analyze_track_duration(json_path)\n",
    "\n",
    "# Suggest a threshold (e.g., 25th percentile)\n",
    "suggested_threshold = np.percentile(durations, 25)\n",
    "print(f\"Suggested threshold for discarding short-lived tracks: {suggested_threshold:.2f} frames\")"
   ]
  },
  {
   "cell_type": "code",
   "execution_count": 6,
   "metadata": {
    "execution": {
     "iopub.execute_input": "2024-08-29T15:54:45.900554Z",
     "iopub.status.busy": "2024-08-29T15:54:45.900273Z",
     "iopub.status.idle": "2024-08-29T17:38:08.763839Z",
     "shell.execute_reply": "2024-08-29T17:38:08.763074Z",
     "shell.execute_reply.started": "2024-08-29T15:54:45.900533Z"
    }
   },
   "outputs": [
    {
     "name": "stderr",
     "output_type": "stream",
     "text": [
      "Processing PwNQ-K0pzkc.mp4:   0%|          | 0/23129 [00:00<?, ?it/s]2024-08-29 15:54:53.150159: I external/local_xla/xla/stream_executor/cuda/cuda_dnn.cc:454] Loaded cuDNN version 8907\n",
      "Processing PwNQ-K0pzkc.mp4: 100%|██████████| 23129/23129 [33:00<00:00, 11.68it/s]\n"
     ]
    },
    {
     "name": "stdout",
     "output_type": "stream",
     "text": [
      "Processed 23129 frames\n",
      "Annotated video saved to /notebooks/data/annotated/PwNQ-K0pzkc.mp4\n",
      "Face tracks data saved to /notebooks/data/annotated/info/PwNQ-K0pzkc.json\n"
     ]
    },
    {
     "name": "stderr",
     "output_type": "stream",
     "text": [
      "Processing 0jpRxldMUSw.mp4: 100%|██████████| 951/951 [01:23<00:00, 11.42it/s]\n"
     ]
    },
    {
     "name": "stdout",
     "output_type": "stream",
     "text": [
      "Processed 951 frames\n",
      "Annotated video saved to /notebooks/data/annotated/0jpRxldMUSw.mp4\n",
      "Face tracks data saved to /notebooks/data/annotated/info/0jpRxldMUSw.json\n"
     ]
    },
    {
     "name": "stderr",
     "output_type": "stream",
     "text": [
      "Processing HrWlKN1DSYo.mp4: 100%|██████████| 15209/15209 [15:49<00:00, 16.02it/s]\n"
     ]
    },
    {
     "name": "stdout",
     "output_type": "stream",
     "text": [
      "Processed 15209 frames\n",
      "Annotated video saved to /notebooks/data/annotated/HrWlKN1DSYo.mp4\n",
      "Face tracks data saved to /notebooks/data/annotated/info/HrWlKN1DSYo.json\n"
     ]
    },
    {
     "name": "stderr",
     "output_type": "stream",
     "text": [
      "Processing 4L5Yv6gADuM.mp4: 100%|██████████| 1039/1039 [01:33<00:00, 11.10it/s]\n"
     ]
    },
    {
     "name": "stdout",
     "output_type": "stream",
     "text": [
      "Processed 1039 frames\n",
      "Annotated video saved to /notebooks/data/annotated/4L5Yv6gADuM.mp4\n",
      "Face tracks data saved to /notebooks/data/annotated/info/4L5Yv6gADuM.json\n"
     ]
    },
    {
     "name": "stderr",
     "output_type": "stream",
     "text": [
      "Processing p3p-yrf9lIQ.mp4: 100%|██████████| 9919/9919 [13:14<00:00, 12.48it/s]\n"
     ]
    },
    {
     "name": "stdout",
     "output_type": "stream",
     "text": [
      "Processed 9919 frames\n",
      "Annotated video saved to /notebooks/data/annotated/p3p-yrf9lIQ.mp4\n",
      "Face tracks data saved to /notebooks/data/annotated/info/p3p-yrf9lIQ.json\n"
     ]
    },
    {
     "name": "stderr",
     "output_type": "stream",
     "text": [
      "Processing hb2T6yD5t7M.mp4: 100%|██████████| 25476/25476 [37:53<00:00, 11.21it/s]\n"
     ]
    },
    {
     "name": "stdout",
     "output_type": "stream",
     "text": [
      "Processed 25476 frames\n",
      "Annotated video saved to /notebooks/data/annotated/hb2T6yD5t7M.mp4\n",
      "Face tracks data saved to /notebooks/data/annotated/info/hb2T6yD5t7M.json\n"
     ]
    },
    {
     "name": "stderr",
     "output_type": "stream",
     "text": [
      "Processing YFAcgTFOyuM.mp4:   3%|▎         | 302/9045 [00:26<12:41, 11.49it/s]\n"
     ]
    },
    {
     "ename": "KeyboardInterrupt",
     "evalue": "",
     "output_type": "error",
     "traceback": [
      "\u001b[0;31m---------------------------------------------------------------------------\u001b[0m",
      "\u001b[0;31mKeyboardInterrupt\u001b[0m                         Traceback (most recent call last)",
      "Cell \u001b[0;32mIn[6], line 179\u001b[0m\n\u001b[1;32m    176\u001b[0m             \u001b[38;5;28mprint\u001b[39m(\u001b[38;5;124mf\u001b[39m\u001b[38;5;124m\"\u001b[39m\u001b[38;5;124mSkipping \u001b[39m\u001b[38;5;132;01m{\u001b[39;00mfilename\u001b[38;5;132;01m}\u001b[39;00m\u001b[38;5;124m as output files already exist.\u001b[39m\u001b[38;5;124m\"\u001b[39m)\n\u001b[1;32m    177\u001b[0m             \u001b[38;5;28;01mcontinue\u001b[39;00m\n\u001b[0;32m--> 179\u001b[0m         \u001b[43mprocess_video\u001b[49m\u001b[43m(\u001b[49m\u001b[43minput_path\u001b[49m\u001b[43m,\u001b[49m\u001b[43m \u001b[49m\u001b[43moutput_video_path\u001b[49m\u001b[43m,\u001b[49m\u001b[43m \u001b[49m\u001b[43moutput_json_path\u001b[49m\u001b[43m)\u001b[49m\n\u001b[1;32m    181\u001b[0m \u001b[38;5;28mprint\u001b[39m(\u001b[38;5;124m\"\u001b[39m\u001b[38;5;124mAll videos processed successfully!\u001b[39m\u001b[38;5;124m\"\u001b[39m)\n",
      "Cell \u001b[0;32mIn[6], line 65\u001b[0m, in \u001b[0;36mprocess_video\u001b[0;34m(input_path, output_video_path, output_json_path)\u001b[0m\n\u001b[1;32m     62\u001b[0m     \u001b[38;5;28;01mbreak\u001b[39;00m\n\u001b[1;32m     64\u001b[0m \u001b[38;5;28;01mtry\u001b[39;00m:\n\u001b[0;32m---> 65\u001b[0m     detections \u001b[38;5;241m=\u001b[39m \u001b[43mRetinaFace\u001b[49m\u001b[38;5;241;43m.\u001b[39;49m\u001b[43mdetect_faces\u001b[49m\u001b[43m(\u001b[49m\u001b[43mframe\u001b[49m\u001b[43m)\u001b[49m\n\u001b[1;32m     66\u001b[0m \u001b[38;5;28;01mexcept\u001b[39;00m \u001b[38;5;167;01mException\u001b[39;00m \u001b[38;5;28;01mas\u001b[39;00m e:\n\u001b[1;32m     67\u001b[0m     logging\u001b[38;5;241m.\u001b[39merror(\u001b[38;5;124mf\u001b[39m\u001b[38;5;124m\"\u001b[39m\u001b[38;5;124mError in face detection at frame \u001b[39m\u001b[38;5;132;01m{\u001b[39;00mframe_idx\u001b[38;5;132;01m}\u001b[39;00m\u001b[38;5;124m for \u001b[39m\u001b[38;5;132;01m{\u001b[39;00minput_path\u001b[38;5;132;01m}\u001b[39;00m\u001b[38;5;124m: \u001b[39m\u001b[38;5;132;01m{\u001b[39;00m\u001b[38;5;28mstr\u001b[39m(e)\u001b[38;5;132;01m}\u001b[39;00m\u001b[38;5;124m\"\u001b[39m)\n",
      "File \u001b[0;32m/usr/local/lib/python3.11/dist-packages/retinaface/RetinaFace.py:122\u001b[0m, in \u001b[0;36mdetect_faces\u001b[0;34m(img_path, threshold, model, allow_upscaling)\u001b[0m\n\u001b[1;32m    120\u001b[0m scores_list \u001b[38;5;241m=\u001b[39m []\n\u001b[1;32m    121\u001b[0m landmarks_list \u001b[38;5;241m=\u001b[39m []\n\u001b[0;32m--> 122\u001b[0m im_tensor, im_info, im_scale \u001b[38;5;241m=\u001b[39m \u001b[43mpreprocess\u001b[49m\u001b[38;5;241;43m.\u001b[39;49m\u001b[43mpreprocess_image\u001b[49m\u001b[43m(\u001b[49m\u001b[43mimg\u001b[49m\u001b[43m,\u001b[49m\u001b[43m \u001b[49m\u001b[43mallow_upscaling\u001b[49m\u001b[43m)\u001b[49m\n\u001b[1;32m    123\u001b[0m net_out \u001b[38;5;241m=\u001b[39m model(im_tensor)\n\u001b[1;32m    124\u001b[0m net_out \u001b[38;5;241m=\u001b[39m [elt\u001b[38;5;241m.\u001b[39mnumpy() \u001b[38;5;28;01mfor\u001b[39;00m elt \u001b[38;5;129;01min\u001b[39;00m net_out]\n",
      "File \u001b[0;32m/usr/local/lib/python3.11/dist-packages/retinaface/commons/preprocess.py:138\u001b[0m, in \u001b[0;36mpreprocess_image\u001b[0;34m(img, allow_upscaling)\u001b[0m\n\u001b[1;32m    136\u001b[0m img, im_scale \u001b[38;5;241m=\u001b[39m resize_image(img, scales, allow_upscaling)\n\u001b[1;32m    137\u001b[0m img \u001b[38;5;241m=\u001b[39m img\u001b[38;5;241m.\u001b[39mastype(np\u001b[38;5;241m.\u001b[39mfloat32)\n\u001b[0;32m--> 138\u001b[0m im_tensor \u001b[38;5;241m=\u001b[39m np\u001b[38;5;241m.\u001b[39mzeros((\u001b[38;5;241m1\u001b[39m, img\u001b[38;5;241m.\u001b[39mshape[\u001b[38;5;241m0\u001b[39m], img\u001b[38;5;241m.\u001b[39mshape[\u001b[38;5;241m1\u001b[39m], img\u001b[38;5;241m.\u001b[39mshape[\u001b[38;5;241m2\u001b[39m]), dtype\u001b[38;5;241m=\u001b[39mnp\u001b[38;5;241m.\u001b[39mfloat32)\n\u001b[1;32m    140\u001b[0m \u001b[38;5;66;03m# Make image scaling + BGR2RGB conversion + transpose (N,H,W,C) to (N,C,H,W)\u001b[39;00m\n\u001b[1;32m    141\u001b[0m \u001b[38;5;28;01mfor\u001b[39;00m i \u001b[38;5;129;01min\u001b[39;00m \u001b[38;5;28mrange\u001b[39m(\u001b[38;5;241m3\u001b[39m):\n",
      "\u001b[0;31mKeyboardInterrupt\u001b[0m: "
     ]
    }
   ],
   "source": [
    "# Main execution: loop over each of the videos\n",
    "base_dir = os.path.dirname(os.getcwd())  # Go up two levels from the code folder\n",
    "original_folder = os.path.join(base_dir, 'data', 'original')\n",
    "annotated_folder = os.path.join(base_dir, 'data', 'annotated')\n",
    "info_folder = os.path.join(base_dir, 'data', 'annotated', 'info')\n",
    "\n",
    "# Ensure output directories exist\n",
    "os.makedirs(annotated_folder, exist_ok=True)\n",
    "os.makedirs(info_folder, exist_ok=True)\n",
    "\n",
    "# Process all .mp4 files in the original folder\n",
    "for filename in os.listdir(original_folder):\n",
    "    if filename.endswith(\".mp4\"):\n",
    "        input_path = os.path.join(original_folder, filename)\n",
    "        output_video_path = os.path.join(annotated_folder, filename)\n",
    "        output_json_path = os.path.join(info_folder, f\"{os.path.splitext(filename)[0]}.json\")\n",
    "\n",
    "        # Check if both output files already exist\n",
    "        if os.path.exists(output_video_path) and os.path.exists(output_json_path):\n",
    "            print(f\"Skipping {filename} as output files already exist.\")\n",
    "            continue\n",
    "\n",
    "        process_video(input_path, output_video_path, output_json_path)\n",
    "\n",
    "print(\"All videos processed successfully!\")"
   ]
  },
  {
   "cell_type": "markdown",
   "metadata": {},
   "source": [
    "### Add back the sound to annotated videos"
   ]
  },
  {
   "cell_type": "code",
   "execution_count": 9,
   "metadata": {
    "execution": {
     "iopub.execute_input": "2024-09-10T15:18:32.630826Z",
     "iopub.status.busy": "2024-09-10T15:18:32.630396Z",
     "iopub.status.idle": "2024-09-10T15:18:37.694171Z",
     "shell.execute_reply": "2024-09-10T15:18:37.693774Z",
     "shell.execute_reply.started": "2024-09-10T15:18:32.630806Z"
    }
   },
   "outputs": [
    {
     "name": "stderr",
     "output_type": "stream",
     "text": [
      "Processing videos:  50%|█████     | 1/2 [00:00<00:00,  1.55it/s]"
     ]
    },
    {
     "name": "stdout",
     "output_type": "stream",
     "text": [
      "FFmpeg output for /notebooks/data/annotated_with_goturn_audio/4L5Yv6gADuM.mp4:\n",
      "\n",
      "ffmpeg version 4.4.2-0ubuntu0.22.04.1 Copyright (c) 2000-2021 the FFmpeg developers\n",
      "  built with gcc 11 (Ubuntu 11.2.0-19ubuntu1)\n",
      "  configuration: --prefix=/usr --extra-version=0ubuntu0.22.04.1 --toolchain=hardened --libdir=/usr/lib/x86_64-linux-gnu --incdir=/usr/include/x86_64-linux-gnu --arch=amd64 --enable-gpl --disable-stripping --enable-gnutls --enable-ladspa --enable-libaom --enable-libass --enable-libbluray --enable-libbs2b --enable-libcaca --enable-libcdio --enable-libcodec2 --enable-libdav1d --enable-libflite --enable-libfontconfig --enable-libfreetype --enable-libfribidi --enable-libgme --enable-libgsm --enable-libjack --enable-libmp3lame --enable-libmysofa --enable-libopenjpeg --enable-libopenmpt --enable-libopus --enable-libpulse --enable-librabbitmq --enable-librubberband --enable-libshine --enable-libsnappy --enable-libsoxr --enable-libspeex --enable-libsrt --enable-libssh --enable-libtheora --enable-libtwolame --enable-libvidstab --enable-libvorbis --enable-libvpx --enable-libwebp --enable-libx265 --enable-libxml2 --enable-libxvid --enable-libzimg --enable-libzmq --enable-libzvbi --enable-lv2 --enable-omx --enable-openal --enable-opencl --enable-opengl --enable-sdl2 --enable-pocketsphinx --enable-librsvg --enable-libmfx --enable-libdc1394 --enable-libdrm --enable-libiec61883 --enable-chromaprint --enable-frei0r --enable-libx264 --enable-shared\n",
      "  libavutil      56. 70.100 / 56. 70.100\n",
      "  libavcodec     58.134.100 / 58.134.100\n",
      "  libavformat    58. 76.100 / 58. 76.100\n",
      "  libavdevice    58. 13.100 / 58. 13.100\n",
      "  libavfilter     7.110.100 /  7.110.100\n",
      "  libswscale      5.  9.100 /  5.  9.100\n",
      "  libswresample   3.  9.100 /  3.  9.100\n",
      "  libpostproc    55.  9.100 / 55.  9.100\n",
      "Input #0, mov,mp4,m4a,3gp,3g2,mj2, from '/notebooks/data/annotated_with_goturn/4L5Yv6gADuM.mp4':\n",
      "  Metadata:\n",
      "    major_brand     : isom\n",
      "    minor_version   : 512\n",
      "    compatible_brands: isomiso2mp41\n",
      "    encoder         : Lavf59.27.100\n",
      "  Duration: 00:00:41.52, start: 0.000000, bitrate: 6133 kb/s\n",
      "  Stream #0:0(und): Video: mpeg4 (Simple Profile) (mp4v / 0x7634706D), yuv420p, 1280x720 [SAR 1:1 DAR 16:9], 6132 kb/s, 25 fps, 25 tbr, 12800 tbn, 25 tbc (default)\n",
      "    Metadata:\n",
      "      handler_name    : VideoHandler\n",
      "      vendor_id       : [0][0][0][0]\n",
      "Input #1, mov,mp4,m4a,3gp,3g2,mj2, from '/notebooks/data/original/4L5Yv6gADuM.mp4':\n",
      "  Metadata:\n",
      "    major_brand     : isom\n",
      "    minor_version   : 512\n",
      "    compatible_brands: isomiso2avc1mp41\n",
      "    encoder         : Lavf58.29.100\n",
      "  Duration: 00:00:41.59, start: 0.000000, bitrate: 1995 kb/s\n",
      "  Stream #1:0(und): Video: h264 (High) (avc1 / 0x31637661), yuv420p, 1280x720, 1861 kb/s, 25 fps, 25 tbr, 12800 tbn, 50 tbc (default)\n",
      "    Metadata:\n",
      "      handler_name    : VideoHandler\n",
      "      vendor_id       : [0][0][0][0]\n",
      "  Stream #1:1(und): Audio: mp3 (mp4a / 0x6134706D), 44100 Hz, stereo, fltp, 127 kb/s (default)\n",
      "    Metadata:\n",
      "      handler_name    : SoundHandler\n",
      "      vendor_id       : [0][0][0][0]\n",
      "Stream mapping:\n",
      "  Stream #0:0 -> #0:0 (copy)\n",
      "  Stream #1:1 -> #0:1 (mp3 (mp3float) -> aac (native))\n",
      "Press [q] to stop, [?] for help\n",
      "Output #0, mp4, to '/notebooks/data/annotated_with_goturn_audio/4L5Yv6gADuM.mp4':\n",
      "  Metadata:\n",
      "    major_brand     : isom\n",
      "    minor_version   : 512\n",
      "    compatible_brands: isomiso2mp41\n",
      "    encoder         : Lavf58.76.100\n",
      "  Stream #0:0(und): Video: mpeg4 (Simple Profile) (mp4v / 0x7634706D), yuv420p, 1280x720 [SAR 1:1 DAR 16:9], q=2-31, 6132 kb/s, 25 fps, 25 tbr, 12800 tbn, 12800 tbc (default)\n",
      "    Metadata:\n",
      "      handler_name    : VideoHandler\n",
      "      vendor_id       : [0][0][0][0]\n",
      "  Stream #0:1(und): Audio: aac (LC) (mp4a / 0x6134706D), 44100 Hz, stereo, fltp, 128 kb/s (default)\n",
      "    Metadata:\n",
      "      handler_name    : SoundHandler\n",
      "      vendor_id       : [0][0][0][0]\n",
      "      encoder         : Lavc58.134.100 aac\n",
      "frame=    0 fps=0.0 q=-1.0 size=       0kB time=00:00:00.00 bitrate=N/A speed=   0x    \n",
      "frame= 1038 fps=0.0 q=-1.0 Lsize=   31760kB time=00:00:41.49 bitrate=6270.2kbits/s speed=94.3x    \n",
      "video:31081kB audio:651kB subtitle:0kB other streams:0kB global headers:0kB muxing overhead: 0.087186%\n",
      "[aac @ 0x5641c4b14640] Qavg: 671.579\n",
      "\n"
     ]
    },
    {
     "name": "stderr",
     "output_type": "stream",
     "text": [
      "Processing videos: 100%|██████████| 2/2 [00:04<00:00,  2.45s/it]"
     ]
    },
    {
     "name": "stdout",
     "output_type": "stream",
     "text": [
      "FFmpeg output for /notebooks/data/annotated_with_goturn_audio/p3p-yrf9lIQ.mp4:\n",
      "\n",
      "ffmpeg version 4.4.2-0ubuntu0.22.04.1 Copyright (c) 2000-2021 the FFmpeg developers\n",
      "  built with gcc 11 (Ubuntu 11.2.0-19ubuntu1)\n",
      "  configuration: --prefix=/usr --extra-version=0ubuntu0.22.04.1 --toolchain=hardened --libdir=/usr/lib/x86_64-linux-gnu --incdir=/usr/include/x86_64-linux-gnu --arch=amd64 --enable-gpl --disable-stripping --enable-gnutls --enable-ladspa --enable-libaom --enable-libass --enable-libbluray --enable-libbs2b --enable-libcaca --enable-libcdio --enable-libcodec2 --enable-libdav1d --enable-libflite --enable-libfontconfig --enable-libfreetype --enable-libfribidi --enable-libgme --enable-libgsm --enable-libjack --enable-libmp3lame --enable-libmysofa --enable-libopenjpeg --enable-libopenmpt --enable-libopus --enable-libpulse --enable-librabbitmq --enable-librubberband --enable-libshine --enable-libsnappy --enable-libsoxr --enable-libspeex --enable-libsrt --enable-libssh --enable-libtheora --enable-libtwolame --enable-libvidstab --enable-libvorbis --enable-libvpx --enable-libwebp --enable-libx265 --enable-libxml2 --enable-libxvid --enable-libzimg --enable-libzmq --enable-libzvbi --enable-lv2 --enable-omx --enable-openal --enable-opencl --enable-opengl --enable-sdl2 --enable-pocketsphinx --enable-librsvg --enable-libmfx --enable-libdc1394 --enable-libdrm --enable-libiec61883 --enable-chromaprint --enable-frei0r --enable-libx264 --enable-shared\n",
      "  libavutil      56. 70.100 / 56. 70.100\n",
      "  libavcodec     58.134.100 / 58.134.100\n",
      "  libavformat    58. 76.100 / 58. 76.100\n",
      "  libavdevice    58. 13.100 / 58. 13.100\n",
      "  libavfilter     7.110.100 /  7.110.100\n",
      "  libswscale      5.  9.100 /  5.  9.100\n",
      "  libswresample   3.  9.100 /  3.  9.100\n",
      "  libpostproc    55.  9.100 / 55.  9.100\n",
      "Input #0, mov,mp4,m4a,3gp,3g2,mj2, from '/notebooks/data/annotated_with_goturn/p3p-yrf9lIQ.mp4':\n",
      "  Metadata:\n",
      "    major_brand     : isom\n",
      "    minor_version   : 512\n",
      "    compatible_brands: isomiso2mp41\n",
      "    encoder         : Lavf59.27.100\n",
      "  Duration: 00:06:36.72, start: 0.000000, bitrate: 2456 kb/s\n",
      "  Stream #0:0(und): Video: mpeg4 (Simple Profile) (mp4v / 0x7634706D), yuv420p, 640x360 [SAR 1:1 DAR 16:9], 2455 kb/s, 25 fps, 25 tbr, 12800 tbn, 25 tbc (default)\n",
      "    Metadata:\n",
      "      handler_name    : VideoHandler\n",
      "      vendor_id       : [0][0][0][0]\n",
      "Input #1, mov,mp4,m4a,3gp,3g2,mj2, from '/notebooks/data/original/p3p-yrf9lIQ.mp4':\n",
      "  Metadata:\n",
      "    major_brand     : isom\n",
      "    minor_version   : 512\n",
      "    compatible_brands: isomiso2avc1mp41\n",
      "    encoder         : Lavf58.29.100\n",
      "  Duration: 00:06:36.80, start: 0.000000, bitrate: 822 kb/s\n",
      "  Stream #1:0(und): Video: h264 (High) (avc1 / 0x31637661), yuv420p, 640x360, 687 kb/s, 25 fps, 25 tbr, 12800 tbn, 50 tbc (default)\n",
      "    Metadata:\n",
      "      handler_name    : VideoHandler\n",
      "      vendor_id       : [0][0][0][0]\n",
      "  Stream #1:1(und): Audio: mp3 (mp4a / 0x6134706D), 44100 Hz, stereo, fltp, 128 kb/s (default)\n",
      "    Metadata:\n",
      "      handler_name    : SoundHandler\n",
      "      vendor_id       : [0][0][0][0]\n",
      "Stream mapping:\n",
      "  Stream #0:0 -> #0:0 (copy)\n",
      "  Stream #1:1 -> #0:1 (mp3 (mp3float) -> aac (native))\n",
      "Press [q] to stop, [?] for help\n",
      "Output #0, mp4, to '/notebooks/data/annotated_with_goturn_audio/p3p-yrf9lIQ.mp4':\n",
      "  Metadata:\n",
      "    major_brand     : isom\n",
      "    minor_version   : 512\n",
      "    compatible_brands: isomiso2mp41\n",
      "    encoder         : Lavf58.76.100\n",
      "  Stream #0:0(und): Video: mpeg4 (Simple Profile) (mp4v / 0x7634706D), yuv420p, 640x360 [SAR 1:1 DAR 16:9], q=2-31, 2455 kb/s, 25 fps, 25 tbr, 12800 tbn, 12800 tbc (default)\n",
      "    Metadata:\n",
      "      handler_name    : VideoHandler\n",
      "      vendor_id       : [0][0][0][0]\n",
      "  Stream #0:1(und): Audio: aac (LC) (mp4a / 0x6134706D), 44100 Hz, stereo, fltp, 128 kb/s (default)\n",
      "    Metadata:\n",
      "      handler_name    : SoundHandler\n",
      "      vendor_id       : [0][0][0][0]\n",
      "      encoder         : Lavc58.134.100 aac\n",
      "frame=    0 fps=0.0 q=-1.0 size=       0kB time=00:00:00.00 bitrate=N/A speed=   0x    \n",
      "frame= 1207 fps=0.0 q=-1.0 size=   14080kB time=00:00:48.25 bitrate=2390.5kbits/s speed=96.5x    \n",
      "frame= 2445 fps=2444 q=-1.0 size=   29696kB time=00:01:37.77 bitrate=2488.0kbits/s speed=97.7x    \n",
      "frame= 3708 fps=2471 q=-1.0 size=   45568kB time=00:02:28.28 bitrate=2517.5kbits/s speed=98.8x    \n",
      "frame= 4896 fps=2447 q=-1.0 size=   61696kB time=00:03:15.80 bitrate=2581.3kbits/s speed=97.9x    \n",
      "frame= 6100 fps=2439 q=-1.0 size=   80128kB time=00:04:03.97 bitrate=2690.5kbits/s speed=97.6x    \n",
      "frame= 7308 fps=2435 q=-1.0 size=   97024kB time=00:04:52.28 bitrate=2719.4kbits/s speed=97.4x    \n",
      "frame= 8581 fps=2451 q=-1.0 size=  109824kB time=00:05:43.21 bitrate=2621.3kbits/s speed=  98x    \n",
      "frame= 9843 fps=2458 q=-1.0 size=  124416kB time=00:06:33.69 bitrate=2588.9kbits/s speed=98.3x    \n",
      "frame= 9918 fps=2458 q=-1.0 Lsize=  125343kB time=00:06:36.68 bitrate=2588.4kbits/s speed=98.3x    \n",
      "video:118897kB audio:6194kB subtitle:0kB other streams:0kB global headers:0kB muxing overhead: 0.201583%\n",
      "[aac @ 0x558fdd243ec0] Qavg: 951.633\n",
      "\n",
      "\n",
      "Processing complete.\n",
      "Successfully processed: 2\n",
      "Failed to process: 0\n",
      "\n",
      "Verifying audio streams in output videos:\n",
      "4L5Yv6gADuM.mp4: Audio stream present\n",
      "p3p-yrf9lIQ.mp4: Audio stream present\n"
     ]
    },
    {
     "name": "stderr",
     "output_type": "stream",
     "text": [
      "\n"
     ]
    }
   ],
   "source": [
    "\n",
    "\n",
    "# Set up paths\n",
    "base_dir = os.path.dirname(os.getcwd())\n",
    "original_folder = os.path.join(base_dir, 'data', 'original')\n",
    "annotated_folder = os.path.join(base_dir, 'data', 'annotated_with_goturn')\n",
    "output_folder = os.path.join(base_dir, 'data', 'annotated_with_goturn_audio')\n",
    "\n",
    "# Create output folder if it doesn't exist\n",
    "os.makedirs(output_folder, exist_ok=True)\n",
    "\n",
    "# Get list of annotated videos\n",
    "annotated_videos = [f for f in os.listdir(annotated_folder) if f.endswith('.mp4')]\n",
    "\n",
    "successful = 0\n",
    "failed = 0\n",
    "\n",
    "# Process each annotated video\n",
    "for video in tqdm(annotated_videos, desc=\"Processing videos\"):\n",
    "    original_video_path = os.path.join(original_folder, video)\n",
    "    annotated_video_path = os.path.join(annotated_folder, video)\n",
    "    output_video_path = os.path.join(output_folder, video)\n",
    "    \n",
    "    if not os.path.exists(original_video_path):\n",
    "        print(f\"Original video not found for {video}\")\n",
    "        failed += 1\n",
    "        continue\n",
    "    \n",
    "    if add_audio_to_video(original_video_path, annotated_video_path, output_video_path):\n",
    "        successful += 1\n",
    "    else:\n",
    "        failed += 1\n",
    "\n",
    "print(f\"\\nProcessing complete.\")\n",
    "print(f\"Successfully processed: {successful}\")\n",
    "print(f\"Failed to process: {failed}\")\n",
    "\n",
    "# Verify audio streams in output videos\n",
    "print(\"\\nVerifying audio streams in output videos:\")\n",
    "for video in os.listdir(output_folder):\n",
    "    video_path = os.path.join(output_folder, video)\n",
    "    if check_audio_stream(video_path):\n",
    "        print(f\"{video}: Audio stream present\")\n",
    "    else:\n",
    "        print(f\"{video}: No audio stream detected\")"
   ]
  }
 ],
 "metadata": {
  "kernelspec": {
   "display_name": "Python 3 (ipykernel)",
   "language": "python",
   "name": "python3"
  },
  "language_info": {
   "codemirror_mode": {
    "name": "ipython",
    "version": 3
   },
   "file_extension": ".py",
   "mimetype": "text/x-python",
   "name": "python",
   "nbconvert_exporter": "python",
   "pygments_lexer": "ipython3",
   "version": "3.11.7"
  }
 },
 "nbformat": 4,
 "nbformat_minor": 4
}
